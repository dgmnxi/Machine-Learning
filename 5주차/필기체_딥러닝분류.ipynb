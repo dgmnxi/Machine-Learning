{
 "cells": [
  {
   "cell_type": "code",
   "execution_count": null,
   "id": "6cc4244d",
   "metadata": {},
   "outputs": [
    {
     "name": "stdout",
     "output_type": "stream",
     "text": [
      "images shape: (1797, 8, 8)\n",
      "train/test sizes: 1437 360\n"
     ]
    },
    {
     "data": {
      "image/png": "[encoded data removed]",
      "text/plain": [
       "<Figure size 300x300 with 1 Axes>"
      ]
     },
     "metadata": {},
     "output_type": "display_data"
    }
   ],
   "source": [
    "# 데이터 로드 및 학습/테스트 분할\n",
    "import matplotlib.pyplot as plt\n",
    "from sklearn import datasets, metrics\n",
    "from sklearn.model_selection import train_test_split\n",
    "import numpy as np\n",
    "\n",
    "digits = datasets.load_digits()\n",
    "print('images shape:', digits.images.shape)\n",
    "\n",
    "\n",
    "plt.figure(figsize=(3,3))\n",
    "plt.imshow(digits.images[0], cmap=plt.cm.gray_r, interpolation='nearest')\n",
    "plt.title(f'label: {digits.target[0]}')\n",
    "plt.axis('off')\n",
    "\n",
    "# flatten 2차원 -> 1차원\n",
    "n_samples = len(digits.images)\n",
    "X = digits.images.reshape((n_samples, -1))\n",
    "y = digits.target\n",
    "\n",
    "# 간단한 표준화 \n",
    "from sklearn.preprocessing import StandardScaler\n",
    "scaler = StandardScaler()\n",
    "X = scaler.fit_transform(X)\n",
    "\n",
    "# 학습/테스트 분할\n",
    "X_train, X_test, y_train, y_test = train_test_split(X, y, test_size=0.2, random_state=42, stratify=y)\n",
    "print('train/test sizes:', X_train.shape[0], X_test.shape[0])"
   ]
  },
  {
   "cell_type": "code",
   "execution_count": null,
   "id": "6b18bc77",
   "metadata": {},
   "outputs": [
    {
     "name": "stdout",
     "output_type": "stream",
     "text": [
      "Iteration 1, loss = 1.43351083\n",
      "Iteration 2, loss = 0.35105045\n",
      "Iteration 3, loss = 0.15415590\n",
      "Iteration 4, loss = 0.09404700\n",
      "Iteration 5, loss = 0.06115752\n",
      "Iteration 6, loss = 0.04294722\n",
      "Iteration 7, loss = 0.03159081\n",
      "Iteration 8, loss = 0.02334945\n",
      "Iteration 9, loss = 0.01829068\n",
      "Iteration 10, loss = 0.01451415\n",
      "Iteration 11, loss = 0.01201991\n",
      "Iteration 12, loss = 0.00969714\n",
      "Iteration 13, loss = 0.00817037\n",
      "Iteration 14, loss = 0.00693125\n",
      "Iteration 15, loss = 0.00588126\n",
      "Iteration 16, loss = 0.00516426\n",
      "Iteration 17, loss = 0.00456589\n",
      "Iteration 18, loss = 0.00402220\n",
      "Iteration 19, loss = 0.00362336\n",
      "Iteration 20, loss = 0.00330395\n",
      "Iteration 21, loss = 0.00302773\n",
      "Iteration 22, loss = 0.00273568\n",
      "Iteration 23, loss = 0.00250904\n",
      "Iteration 24, loss = 0.00231986\n",
      "Iteration 25, loss = 0.00215633\n",
      "Iteration 26, loss = 0.00200614\n",
      "Iteration 27, loss = 0.00187663\n",
      "Iteration 28, loss = 0.00174808\n",
      "Iteration 29, loss = 0.00165764\n",
      "Iteration 30, loss = 0.00155315\n",
      "Iteration 31, loss = 0.00147038\n",
      "Iteration 32, loss = 0.00139603\n",
      "Iteration 33, loss = 0.00132558\n",
      "Iteration 34, loss = 0.00126173\n",
      "Iteration 35, loss = 0.00120285\n",
      "Iteration 36, loss = 0.00115568\n",
      "Iteration 37, loss = 0.00110385\n",
      "Iteration 38, loss = 0.00106265\n",
      "Iteration 39, loss = 0.00102105\n",
      "Iteration 40, loss = 0.00098215\n",
      "Iteration 41, loss = 0.00094442\n",
      "Training loss did not improve more than tol=0.000100 for 10 consecutive epochs. Stopping.\n",
      "MLP test accuracy: 0.9806\n",
      "\n",
      "Classification report:\n",
      "\n",
      "              precision    recall  f1-score   support\n",
      "\n",
      "           0       1.00      1.00      1.00        36\n",
      "           1       0.95      0.97      0.96        36\n",
      "           2       0.97      1.00      0.99        35\n",
      "           3       1.00      1.00      1.00        37\n",
      "           4       0.95      1.00      0.97        36\n",
      "           5       1.00      1.00      1.00        37\n",
      "           6       1.00      0.97      0.99        36\n",
      "           7       0.97      0.97      0.97        36\n",
      "           8       0.97      0.91      0.94        35\n",
      "           9       1.00      0.97      0.99        36\n",
      "\n",
      "    accuracy                           0.98       360\n",
      "   macro avg       0.98      0.98      0.98       360\n",
      "weighted avg       0.98      0.98      0.98       360\n",
      "\n"
     ]
    }
   ],
   "source": [
    "\n",
    "from sklearn.neural_network import MLPClassifier\n",
    "from sklearn import metrics\n",
    "\n",
    "# 두 개의 은닉층\n",
    "mlp = MLPClassifier(hidden_layer_sizes=(256, 128), activation='relu', solver='adam',\n",
    "                    batch_size=64, max_iter=300, random_state=42, verbose=True)\n",
    "\n",
    "mlp.fit(X_train, y_train)\n",
    "y_pred = mlp.predict(X_test)\n",
    "acc = metrics.accuracy_score(y_test, y_pred)\n",
    "print(f'MLP test accuracy: {acc:.4f}')\n",
    "\n",
    "# 자세한 성능 지표\n",
    "print('\\nClassification report:\\n')\n",
    "print(metrics.classification_report(y_test, y_pred))"
   ]
  }
 ],
 "metadata": {
  "kernelspec": {
   "display_name": "Python 3",
   "language": "python",
   "name": "python3"
  },
  "language_info": {
   "codemirror_mode": {
    "name": "ipython",
    "version": 3
   },
   "file_extension": ".py",
   "mimetype": "text/x-python",
   "name": "python",
   "nbconvert_exporter": "python",
   "pygments_lexer": "ipython3",
   "version": "3.10.11"
  }
 },
 "nbformat": 4,
 "nbformat_minor": 5
}
